{
 "cells": [
  {
   "cell_type": "markdown",
   "metadata": {},
   "source": [
    "[pynorch reference](https://medium.com/data-science/recreating-pytorch-from-scratch-with-gpu-support-and-automatic-differentiation-8f565122a3cc)"
   ]
  },
  {
   "cell_type": "code",
   "execution_count": null,
   "metadata": {
    "vscode": {
     "languageId": "shellscript"
    }
   },
   "outputs": [],
   "source": [
    "#*-----test all----\n",
    "python run.py --opt 100 \n",
    "\n",
    "#*-----random----\n",
    "python main.py --opt 0\n",
    "#*-----matrix,vector----\n",
    "python run.py --delete False --opt 0 \n",
    "python run.py --delete False --opt 1 \n",
    "python run.py --delete False --opt 2\n",
    "python run.py --delete False --opt 3\n",
    "python run.py --delete False --opt 4\n",
    "python run.py --delete False --opt 5\n",
    "python run.py --delete False --opt 6\n",
    "#*----tensor----\n",
    "python run.py --delete False --opt 10\n",
    "python run.py --delete False --opt 11\n",
    "python run.py --delete False --opt 12\n",
    "python run.py --delete False --opt 13\n",
    "python run.py --delete False --opt 14"
   ]
  }
 ],
 "metadata": {
  "language_info": {
   "name": "python"
  }
 },
 "nbformat": 4,
 "nbformat_minor": 2
}
